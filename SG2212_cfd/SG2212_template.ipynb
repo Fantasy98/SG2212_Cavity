{
 "cells": [
  {
   "cell_type": "markdown",
   "metadata": {},
   "source": [
    "# Project SG2212/SG3114\n",
    "\n",
    "Development of a Python code to solve the two-dimensional Navier-Stokes equations on a rectangular domain."
   ]
  },
  {
   "cell_type": "markdown",
   "metadata": {},
   "source": [
    "Import some relevant libraries:"
   ]
  },
  {
   "cell_type": "code",
   "execution_count": 20,
   "metadata": {},
   "outputs": [],
   "source": [
    "# %matplotlib notebook \n",
    "# possible options: notebook, inline or widget\n",
    "import numpy as np\n",
    "import matplotlib.pyplot as plt\n",
    "import matplotlib.pylab as pylab\n",
    "import matplotlib.animation\n",
    "import math \n",
    "import scipy.sparse as sp\n",
    "import scipy.linalg as scl\n",
    "from scipy.sparse.linalg import splu\n",
    "params = {'legend.fontsize': 12,\n",
    "          'legend.loc':'best',\n",
    "          'figure.figsize': (8,5),\n",
    "          'lines.markerfacecolor':'none',\n",
    "          'axes.labelsize': 12,\n",
    "          'axes.titlesize': 12,\n",
    "          'xtick.labelsize':12,\n",
    "          'ytick.labelsize':12,\n",
    "          'grid.alpha':0.6}\n",
    "pylab.rcParams.update(params)"
   ]
  },
  {
   "cell_type": "markdown",
   "metadata": {},
   "source": [
    "Some useful functions:"
   ]
  },
  {
   "cell_type": "code",
   "execution_count": 21,
   "metadata": {},
   "outputs": [
    {
     "data": {
      "text/plain": [
       "array([[-1.,  1.,  0.,  0.,  0.],\n",
       "       [ 1., -2.,  1.,  0.,  0.],\n",
       "       [ 0.,  1., -2.,  1.,  0.],\n",
       "       [ 0.,  0.,  1., -2.,  1.],\n",
       "       [ 0.,  0.,  0.,  1., -1.]])"
      ]
     },
     "execution_count": 21,
     "metadata": {},
     "output_type": "execute_result"
    }
   ],
   "source": [
    "def avg(A,axis=0):\n",
    "    \"\"\"\n",
    "    Averaging function to go from cell centres (pressure nodes)\n",
    "    to cell corners (velocity nodes) and vice versa.\n",
    "    avg acts on index idim; default is idim=1.\n",
    "    \"\"\"\n",
    "    if (axis==0):\n",
    "        B = (A[:-1]+ A[1:])/2.\n",
    "    elif (axis==1):\n",
    "        B = (A[:,:-1] + A[:,1:])/2.\n",
    "    else:\n",
    "        raise ValueError('Wrong value for axis')\n",
    "    return B           \n",
    "\n",
    "def DD(n,h):\n",
    "    \"\"\"\n",
    "    One-dimensional finite-difference derivative matrix \n",
    "    of size n times n for second derivative:\n",
    "    h^2 * f''(x_j) = -f(x_j-1) + 2*f(x_j) - f(x_j+1)\n",
    "\n",
    "    Homogeneous Neumann boundary conditions on the boundaries \n",
    "    are imposed, i.e.\n",
    "    f(x_0) = f(x_1) \n",
    "    if the wall lies between x_0 and x_1. This gives then\n",
    "    h^2 * f''(x_j) = + f(x_0) - 2*f(x_1) + f(x_2)\n",
    "                   = + f(x_1) - 2*f(x_1) + f(x_2)\n",
    "                   =              f(x_1) + f(x_2)\n",
    "\n",
    "    For n=5 and h=1 the following result is obtained:\n",
    " \n",
    "    A =\n",
    "        -1     1     0     0     0\n",
    "         1    -2     1     0     0\n",
    "         0     1    -2     1     0\n",
    "         0     0     1    -2     1\n",
    "         0     0     0     1    -1\n",
    "    \"\"\"\n",
    "    data = np.concatenate( (np.array([-1]), np.ones( (n-2,1) ) @ np.array([-2]),np.array([-1])))\n",
    "    \n",
    "    diags = np.array([0])\n",
    "    A = sp.spdiags(data.T, diags, n,n) / h**2\n",
    "\n",
    "    ones = np.vstack([np.ones(n),np.ones(n)])\n",
    "    diags_one = np.array([-1,1])\n",
    "    A_one = sp.spdiags(ones,diags_one,n,n)/h**2\n",
    "\n",
    "    A+=A_one\n",
    "    return A\n",
    "    \n",
    "DD(5,1).toarray()"
   ]
  },
  {
   "cell_type": "markdown",
   "metadata": {},
   "source": [
    "Homemade version of Matlab tic and toc functions"
   ]
  },
  {
   "cell_type": "code",
   "execution_count": 22,
   "metadata": {},
   "outputs": [],
   "source": [
    "def tic():\n",
    "    import time\n",
    "    global startTime_for_tictoc\n",
    "    startTime_for_tictoc = time.time()\n",
    "\n",
    "def toc():\n",
    "    import time\n",
    "    if 'startTime_for_tictoc' in globals():\n",
    "        print(\"Elapsed time is \" + str(time.time() - startTime_for_tictoc) + \" seconds.\")\n",
    "    else:\n",
    "        print(\"Toc: start time not set\")"
   ]
  },
  {
   "cell_type": "markdown",
   "metadata": {},
   "source": [
    "Simulation parameters:"
   ]
  },
  {
   "cell_type": "code",
   "execution_count": 64,
   "metadata": {},
   "outputs": [],
   "source": [
    "Pr = 0.71\n",
    "Re = 100\n",
    "# Ri = 0. \n",
    "dt = 1e-3\n",
    "Tf = 20\n",
    "Lx = 1.\n",
    "Ly = 1.\n",
    "Nx =30\n",
    "Ny = 30\n",
    "namp = 0\n",
    "ig = 20"
   ]
  },
  {
   "cell_type": "markdown",
   "metadata": {},
   "source": [
    "Discretisation in space and time, and definition of boundary conditions:"
   ]
  },
  {
   "cell_type": "code",
   "execution_count": 24,
   "metadata": {},
   "outputs": [],
   "source": [
    "# number of iteratins\n",
    "Nit = 1000\n",
    "# edge coordinates\n",
    "x = np.linspace(0,1,Nx+1)\n",
    "y = np.linspace(0,1,Ny+1)\n",
    "# grid spacing\n",
    "hx = Lx/Nx\n",
    "hy = Ly/Ny"
   ]
  },
  {
   "cell_type": "code",
   "execution_count": 25,
   "metadata": {},
   "outputs": [],
   "source": [
    "# boundary conditions\n",
    "Utop = 1.; Ttop = 1.; Tbottom = 0.;\n",
    "uN = x*0 + Utop;  uN = uN[:,np.newaxis];    vN = avg(x,0)*0;    vN = vN[:,np.newaxis];\n",
    "uS = x*0 + 0;  uS = uS[:,np.newaxis];         vS = avg(x,0)*0;  vS = vS[:,np.newaxis];\n",
    "uW = avg(y,0)*0;  uW = uW[np.newaxis,:];       vW = y*0;   vW = vW[np.newaxis,:];\n",
    "uE = avg(y,0)*0;  uE = uE[np.newaxis,:];       vE = y*0;    vE = vE[np.newaxis,:];\n",
    "\n",
    "tN = x*0 ; tS = y*0"
   ]
  },
  {
   "cell_type": "markdown",
   "metadata": {},
   "source": [
    "Pressure correction and pressure Poisson equation:"
   ]
  },
  {
   "cell_type": "code",
   "execution_count": 26,
   "metadata": {},
   "outputs": [],
   "source": [
    "# Compute system matrices for pressure \n",
    "# Laplace operator on cell centres: Fxx + Fyy\n",
    "# First set homogeneous Neumann condition all around\n",
    "Lp = np.kron( sp.eye(Ny).toarray(),DD(Nx,hx).toarray()) + np.kron( DD(Ny,hy).toarray(),sp.eye(Nx).toarray());\n",
    "# Set one Dirichlet value to fix pressure in that point\n",
    "Lp[:,0] = 0; Lp[0,:] =0; Lp[0,0] = 1;\n",
    "Lp_lu, Lp_piv = scl.lu_factor(Lp)\n",
    "Lps = sp.csc_matrix(Lp)\n",
    "Lps_lu = splu(Lps)"
   ]
  },
  {
   "cell_type": "markdown",
   "metadata": {},
   "source": [
    "Initial conditions:"
   ]
  },
  {
   "cell_type": "code",
   "execution_count": 65,
   "metadata": {},
   "outputs": [],
   "source": [
    "U = np.zeros((Nx-1,Ny))\n",
    "V = np.zeros((Nx,Ny-1))\n",
    "T = np.zeros((Nx,Ny))+ namp*(np.random.rand(Nx,Ny)-0.5); "
   ]
  },
  {
   "cell_type": "markdown",
   "metadata": {},
   "source": [
    "Main time-integration loop. Write output file \"cavity.mp4\" if "
   ]
  },
  {
   "cell_type": "code",
   "execution_count": 30,
   "metadata": {},
   "outputs": [
    {
     "name": "stdout",
     "output_type": "stream",
     "text": [
      "[         |         |         |         |         ]\n"
     ]
    },
    {
     "ename": "ValueError",
     "evalue": "operands could not be broadcast together with shapes (30,30) (28,30) ",
     "output_type": "error",
     "traceback": [
      "\u001b[0;31m---------------------------------------------------------------------------\u001b[0m",
      "\u001b[0;31mValueError\u001b[0m                                Traceback (most recent call last)",
      "\u001b[1;32m/home/yuning/KTH/yuning_Project/SG2212_template.ipynb Cell 20\u001b[0m in \u001b[0;36m<cell line: 11>\u001b[0;34m()\u001b[0m\n\u001b[1;32m     <a href='vscode-notebook-cell:/home/yuning/KTH/yuning_Project/SG2212_template.ipynb#X24sZmlsZQ%3D%3D?line=55'>56</a>\u001b[0m dUTdx \u001b[39m=\u001b[39m np\u001b[39m.\u001b[39mdiff(T,n\u001b[39m=\u001b[39m\u001b[39m1\u001b[39m,axis\u001b[39m=\u001b[39m\u001b[39m0\u001b[39m)\n\u001b[1;32m     <a href='vscode-notebook-cell:/home/yuning/KTH/yuning_Project/SG2212_template.ipynb#X24sZmlsZQ%3D%3D?line=56'>57</a>\u001b[0m dVTdy \u001b[39m=\u001b[39m np\u001b[39m.\u001b[39mdiff(T,n\u001b[39m=\u001b[39m\u001b[39m1\u001b[39m,axis\u001b[39m=\u001b[39m\u001b[39m1\u001b[39m)\n\u001b[0;32m---> <a href='vscode-notebook-cell:/home/yuning/KTH/yuning_Project/SG2212_template.ipynb#X24sZmlsZQ%3D%3D?line=58'>59</a>\u001b[0m T \u001b[39m=\u001b[39m T \u001b[39m-\u001b[39;49m dt\u001b[39m*\u001b[39;49mnp\u001b[39m.\u001b[39;49mdiff(T\u001b[39m*\u001b[39;49mT,\u001b[39m2\u001b[39;49m,axis\u001b[39m=\u001b[39;49m\u001b[39m0\u001b[39;49m)\n\u001b[1;32m     <a href='vscode-notebook-cell:/home/yuning/KTH/yuning_Project/SG2212_template.ipynb#X24sZmlsZQ%3D%3D?line=60'>61</a>\u001b[0m \u001b[39m# do postprocessing to file\u001b[39;00m\n\u001b[1;32m     <a href='vscode-notebook-cell:/home/yuning/KTH/yuning_Project/SG2212_template.ipynb#X24sZmlsZQ%3D%3D?line=61'>62</a>\u001b[0m \u001b[39mif\u001b[39;00m (ig\u001b[39m>\u001b[39m\u001b[39m0\u001b[39m \u001b[39mand\u001b[39;00m np\u001b[39m.\u001b[39mfloor(k\u001b[39m/\u001b[39mig)\u001b[39m==\u001b[39mk\u001b[39m/\u001b[39mig):\n",
      "\u001b[0;31mValueError\u001b[0m: operands could not be broadcast together with shapes (30,30) (28,30) "
     ]
    }
   ],
   "source": [
    "if (ig>0):\n",
    "    metadata = dict(title='Lid-driven cavity', artist='SG2212')\n",
    "    writer = matplotlib.animation.FFMpegWriter(fps=15, metadata=metadata)\n",
    "    matplotlib.use(\"Agg\")\n",
    "    fig=plt.figure()\n",
    "    writer.setup(fig,r\"/home/yuning/Downloads/cavity.mp4\",dpi=200)\n",
    "\n",
    "# progress bar\n",
    "print('[         |         |         |         |         ]')\n",
    "tic()\n",
    "for k in range(Nit):\n",
    "    # print(\"Iteration k=%i time=%.2e\" % (k,k*dt))\n",
    "\n",
    "    # include all boundary points for u and v (linear extrapolation\n",
    "    # for ghost cells) into extended array (Ue,Ve)\n",
    "    Ue = np.vstack((uW, U, uE)); Ue = np.hstack( (2*uS-Ue[:,0,np.newaxis], Ue, 2*uN-Ue[:,-1,np.newaxis]));\n",
    "    Ve = np.hstack( [vS,V,vN]  ); Ve = np.hstack(  [2*vW.T-Ve[0,:,np.newaxis], Ve.T, 2*vE.T-Ve[-1,:,np.newaxis]]  ).T\n",
    "\n",
    "    # averaged (Ua,Va) of u and v on corners\n",
    "    Ua = avg(Ue,1)\n",
    "    Va = avg(Ve,0)\n",
    "\n",
    "    #  construct individual parts of nonlinear terms\n",
    "    dUVdx = np.diff(Ua[:,1:-1]*Va[:,1:-1],axis=0,n=1)/hx\n",
    "    dUVdy = np.diff(Ua[1:-1,:]*Va[1:-1,:],axis =1,n=1)/hy\n",
    "    Ub    = avg( Ue*Ue,0);   \n",
    "    Vb    = avg( Ve*Ve,1)\n",
    "    dU2dx = np.diff( Ub[:,1:-1],n=1,axis=0)/hx;\n",
    "    dV2dy = np.diff( Vb[1:-1,:],n=1,axis=1)/hy;\n",
    "\n",
    "    # treat viscosity explicitly\n",
    "    viscu = np.diff( Ue[:,1:-1],axis=0,n=2 )/hx**2 + np.diff(Ue[1:-1,:],axis=1,n=2)/hy**2  ;\n",
    "    viscv = np.diff( Ve[:,1:-1],axis=0,n=2 )/hx**2 + np.diff(Ve[1:-1,:],axis=1,n=2)/hy**2 ;\n",
    "\n",
    "    # compose final nonlinear term + explicit viscous terms\n",
    "    U = U + (dt/Re)*viscu - dt*(dU2dx + dUVdy)\n",
    "    V = V + (dt/Re)*viscv - dt*(dV2dy + dUVdx)\n",
    "\n",
    "    # pressure correction, Dirichlet P=0 at (1,1)\n",
    "    rhs = (np.diff( np.vstack([uW,U,uE]),n=1,axis=0)/hx + np.diff( np.hstack([vS,V,vN]),n=1 ,axis=1)/hy )/dt;\n",
    "    rhs = np.reshape(rhs,(Nx*Ny,1));\n",
    "    rhs[0] = 0;\n",
    "\n",
    "    # different ways of solving the pressure-Poisson equation:\n",
    "    P = Lps_lu.solve(rhs)\n",
    "\n",
    "    P = np.reshape(P,(Nx,Ny))\n",
    "\n",
    "    # apply pressure correction\n",
    "    U = U - dt*np.diff(P,n=1,axis=0)/hx;\n",
    "    V = V - dt*np.diff(P,n=1,axis=1)/hy; \n",
    "\n",
    "\n",
    "################ \n",
    "# Since we have the corrected velocity \n",
    "# Compute Temperature as passive scalar\n",
    "    Ue = np.vstack((uW, U, uE)); Ue = np.hstack( (2*uS-Ue[:,0,np.newaxis], Ue, 2*uN-Ue[:,-1,np.newaxis]));\n",
    "    Ve = np.hstack( [vS,V,vN]  ); Ve = np.hstack(  [2*vW.T-Ve[0,:,np.newaxis], Ve.T, 2*vE.T-Ve[-1,:,np.newaxis]]  ).T\n",
    "\n",
    "    # averaged (Ua,Va) of u and v on corners\n",
    "    Ua = avg(Ue,1)\n",
    "    Va = avg(Ve,0)\n",
    "\n",
    "    # Temperature equation\n",
    "    Pe = Pr * Re\n",
    "\n",
    "    dUTdx = np.diff(Ua[1:-1,1:-1]*T,n=1,axis=0)/hx\n",
    "    dVTdy = np.diff(Va[1:-1,:]*T,n=1,axis=1)/hy\n",
    "    disp_x = np.diff(T*T)\n",
    "\n",
    "    T = T - dt\n",
    "\n",
    "    # do postprocessing to file\n",
    "    if (ig>0 and np.floor(k/ig)==k/ig):\n",
    "        plt.clf()\n",
    "        plt.contourf(avg(x),avg(y),T.T,levels=np.arange(0,1.05,0.05),cmap = \"jet\")\n",
    "        plt.gca().set_aspect(1.)\n",
    "        plt.colorbar()\n",
    "        plt.title(f'Temperature at t={k*dt:.2f}')\n",
    "        writer.grab_frame()\n",
    "\n",
    "    # update progress bar\n",
    "    if np.floor(51*k/Nit)>np.floor(51*(k-1)/Nit): \n",
    "        print('.',end='')\n",
    "\n",
    "# finalise progress bar\n",
    "print(' done. Iterations k=%i time=%.2f' % (k,k*dt))\n",
    "toc()\n",
    "\n",
    "if (ig>0):\n",
    "    writer.finish()"
   ]
  },
  {
   "cell_type": "markdown",
   "metadata": {},
   "source": [
    "Visualisation of the flow field at the end time:"
   ]
  },
  {
   "cell_type": "code",
   "execution_count": null,
   "metadata": {
    "scrolled": true
   },
   "outputs": [],
   "source": [
    "\n",
    "Ua = np.hstack( (uS,avg(np.vstack((uW,U,uE)),1),uN));\n",
    "Va = np.vstack((vW,avg(np.hstack((vS,V,\n",
    "                                  vN)),0),vE));\n",
    "plt.figure(-1)\n",
    "plt.contourf(x,y,np.sqrt(Ua**2+Va**2).T,20)\n",
    "plt.quiver(x,y,Ua.T,Va.T)\n",
    "plt.gca().set_aspect(1.)\n",
    "plt.colorbar()\n",
    "plt.title(f'Velocity at t={k*dt:.2f}')\n",
    "plt.savefig(\"fina\")"
   ]
  },
  {
   "cell_type": "code",
   "execution_count": null,
   "metadata": {},
   "outputs": [],
   "source": [
    "# compute divergence on cell centres\n",
    "div = (np.diff( np.vstack( (uW,U, uE)),axis=0)/hx + np.diff( np.hstack(( vS, V, vN)),axis=1)/hy)\n",
    "plt.figure()\n",
    "plt.pcolor(avg(x),avg(y),div.T,shading='nearest')\n",
    "plt.gca().set_aspect(1.)\n",
    "plt.colorbar()\n",
    "plt.title(f'Divergence at t={k*dt:.2f}')\n",
    "plt.show()"
   ]
  },
  {
   "cell_type": "markdown",
   "metadata": {},
   "source": [
    "## Analysis of the pressure Poisson equation:"
   ]
  },
  {
   "cell_type": "markdown",
   "metadata": {},
   "source": [
    "Matrix structure:"
   ]
  },
  {
   "cell_type": "code",
   "execution_count": null,
   "metadata": {},
   "outputs": [],
   "source": [
    "plt.figure()\n",
    "plt.spy(Lp)\n",
    "plt.show()"
   ]
  },
  {
   "cell_type": "markdown",
   "metadata": {},
   "source": [
    "Size, rank and null space:"
   ]
  },
  {
   "cell_type": "code",
   "execution_count": null,
   "metadata": {},
   "outputs": [],
   "source": [
    "Lp.shape"
   ]
  },
  {
   "cell_type": "code",
   "execution_count": null,
   "metadata": {},
   "outputs": [],
   "source": [
    "np.linalg.matrix_rank(Lp)"
   ]
  },
  {
   "cell_type": "code",
   "execution_count": null,
   "metadata": {},
   "outputs": [],
   "source": [
    "scl.null_space(Lp)"
   ]
  },
  {
   "cell_type": "code",
   "execution_count": null,
   "metadata": {},
   "outputs": [],
   "source": []
  },
  {
   "cell_type": "code",
   "execution_count": null,
   "metadata": {},
   "outputs": [],
   "source": []
  }
 ],
 "metadata": {
  "kernelspec": {
   "display_name": "Python 3.8.13 ('tensor2')",
   "language": "python",
   "name": "python3"
  },
  "language_info": {
   "codemirror_mode": {
    "name": "ipython",
    "version": 3
   },
   "file_extension": ".py",
   "mimetype": "text/x-python",
   "name": "python",
   "nbconvert_exporter": "python",
   "pygments_lexer": "ipython3",
   "version": "3.8.13"
  },
  "vscode": {
   "interpreter": {
    "hash": "11e05876bec2ad9b34c669d9dff61cc48fedec39522fd08af25791e3a216550b"
   }
  }
 },
 "nbformat": 4,
 "nbformat_minor": 1
}
